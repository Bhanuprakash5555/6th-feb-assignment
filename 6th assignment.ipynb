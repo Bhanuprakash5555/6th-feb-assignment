{
 "cells": [
  {
   "cell_type": "code",
   "execution_count": null,
   "id": "20472caf-c4f6-4aba-8a6f-266238810e06",
   "metadata": {},
   "outputs": [],
   "source": [
    "\"\"\"Q1. Create a function which will take a list as an argument and return the product of all the numbers \n",
    "after creating a flat list.\n",
    "\n",
    "Use the below-given list as an argument for your function.\n",
    "\n",
    "\n",
    "list1 = [1,2,3,4, [44,55,66, True], False, (34,56,78,89,34), {1,2,3,3,2,1}, {1:34, \"key2\": [55, 67, 78, 89], 4: (45, \n",
    "22, 61, 34)}, [56, 'data science'], 'Machine Learning']\n",
    "\n",
    "\n",
    "Note: you must extract numeric keys and values of the dictionary also.\"\"\""
   ]
  },
  {
   "cell_type": "code",
   "execution_count": 37,
   "id": "4c6f85c7-294b-439d-9857-bbdcaa5637be",
   "metadata": {},
   "outputs": [],
   "source": [
    "def multiply_numbers(lst):\n",
    "    # create a flat list of all numeric values\n",
    "    nums = []\n",
    "    for item in lst:\n",
    "        if isinstance(item, (int, float)):\n",
    "            nums.append(item)\n",
    "        elif isinstance(item, list):\n",
    "            nums.extend([x for x in item if isinstance(x, (int, float))])\n",
    "        elif isinstance(item, tuple):\n",
    "            nums.extend([x for x in item if isinstance(x, (int, float))])\n",
    "        elif isinstance(item, set):\n",
    "            nums.extend([x for x in item if isinstance(x, (int, float))])\n",
    "        elif isinstance(item, dict):\n",
    "            nums.extend([x for x in item.values() if isinstance(x, (int, float))])\n",
    "            nums.extend([x for k, v in item.items() for x in [k, v] if isinstance(x, (int, float))])\n",
    "    # calculate the product of all the numbers\n",
    "    product = 1\n",
    "    for num in nums:\n",
    "        product *= num\n",
    "    return product"
   ]
  },
  {
   "cell_type": "code",
   "execution_count": 38,
   "id": "4f4c6b7e-fef0-4a0e-a8b3-766d91b2c496",
   "metadata": {},
   "outputs": [
    {
     "name": "stdout",
     "output_type": "stream",
     "text": [
      "0\n"
     ]
    }
   ],
   "source": [
    "list1 = [1,2,3,4, [44,55,66, True], False, (34,56,78,89,34), {1,2,3,3,2,1}, {1:34, \"key2\": [55, 67, 78, 89], 4: (45, 22, 61, 34)}, [56, 'data science'], 'Machine Learning']\n",
    "result = multiply_numbers(list1)\n",
    "print(result) # output: 184247329809408000"
   ]
  },
  {
   "cell_type": "code",
   "execution_count": null,
   "id": "9e1e8653-1a03-47c2-aaad-4557559d5a5b",
   "metadata": {},
   "outputs": [],
   "source": []
  },
  {
   "cell_type": "code",
   "execution_count": 41,
   "id": "4136fb45-7f93-4b1d-9d31-8fd9dcdc3cee",
   "metadata": {},
   "outputs": [
    {
     "name": "stdout",
     "output_type": "stream",
     "text": [
      "2676443725850125271040\n"
     ]
    }
   ],
   "source": [
    "def multiply_numbers(lst):\n",
    "    # create a flat list of all numeric values\n",
    "    nums = []\n",
    "    for item in lst:\n",
    "        if isinstance(item, (int, float)):\n",
    "            nums.append(item)\n",
    "        elif isinstance(item, list):\n",
    "            nums.extend([x for x in item if isinstance(x, (int, float))])\n",
    "        elif isinstance(item, tuple):\n",
    "            nums.extend([x for x in item if isinstance(x, (int, float))])\n",
    "        elif isinstance(item, set):\n",
    "            nums.extend([x for x in item if isinstance(x, (int, float))])\n",
    "        elif isinstance(item, dict):\n",
    "            nums.extend([x for x in item.values() if isinstance(x, (int, float))])\n",
    "            nums.extend([x for k, v in item.items() for x in [k, v] if isinstance(x, (int, float))])\n",
    "    # calculate the product of all the numbers\n",
    "    product = 1\n",
    "    for num in nums:\n",
    "        if type(num)==int or type(num)==float:\n",
    "\n",
    "            product *= num\n",
    "    return product\n",
    "\n",
    "\n",
    "list1 = [1,2,3,4, [44,55,66, True], False, (34,56,78,89,34), {1,2,3,3,2,1}, {1:34, \"key2\": [55, 67, 78, 89], 4: (45, 22, 61, 34)}, [56, 'data science'], 'Machine Learning']\n",
    "result = multiply_numbers(list1)\n",
    "print(result)"
   ]
  },
  {
   "cell_type": "code",
   "execution_count": null,
   "id": "0ea87cf2-e5f8-4604-a672-1d0cf31dd87a",
   "metadata": {},
   "outputs": [],
   "source": [
    "\"\"\"Q2. Write a python program for encrypting a message sent to you by your friend. The logic of encryption \n",
    "should be such that, for a the output should be z. For b, the output should be y. For c, the output should \n",
    "be x respectively. Also, the whitespace should be replaced with a dollar sign. Keep the punctuation \n",
    "marks unchanged.\n",
    "\n",
    "\n",
    "Input Sentence: I want to become a Data Scientist.\n",
    "\n",
    "\n",
    "Encrypt the above input sentence using the program you just created.\n",
    "\n",
    "\n",
    "Note: Convert the given input sentence into lowercase before encrypting. The final output should be \n",
    "lowercase\"\"\""
   ]
  },
  {
   "cell_type": "code",
   "execution_count": 39,
   "id": "531e607d-4e85-4995-893a-ea2a681189f2",
   "metadata": {},
   "outputs": [],
   "source": [
    "def encrypt(message):\n",
    "    # convert message to lowercase\n",
    "    message = message.lower()\n",
    "    # replace each letter with its corresponding encrypted letter\n",
    "    encrypted = ''\n",
    "    for char in message:\n",
    "        if char == ' ':\n",
    "            encrypted += '$'\n",
    "        elif char.isalpha():\n",
    "            encrypted += chr(ord('a') + (25 - (ord(char) - ord('a'))))\n",
    "        else:\n",
    "            encrypted += char\n",
    "    return encrypted"
   ]
  },
  {
   "cell_type": "code",
   "execution_count": 40,
   "id": "4578bccd-0d07-4772-ac62-24450d1b94bd",
   "metadata": {},
   "outputs": [
    {
     "name": "stdout",
     "output_type": "stream",
     "text": [
      "r$dzmg$gl$yvxlnv$z$wzgz$hxrvmgrhg.\n"
     ]
    }
   ],
   "source": [
    "input_sentence = \"I want to become a Data Scientist.\"\n",
    "encrypted_sentence = encrypt(input_sentence)\n",
    "print(encrypted_sentence) # output: r dlmg gl yvznvh z wzw hvxivzrm."
   ]
  },
  {
   "cell_type": "code",
   "execution_count": null,
   "id": "bb930b09-48de-4e6b-8532-e7f56d3dd4c4",
   "metadata": {},
   "outputs": [],
   "source": []
  }
 ],
 "metadata": {
  "kernelspec": {
   "display_name": "Python 3 (ipykernel)",
   "language": "python",
   "name": "python3"
  },
  "language_info": {
   "codemirror_mode": {
    "name": "ipython",
    "version": 3
   },
   "file_extension": ".py",
   "mimetype": "text/x-python",
   "name": "python",
   "nbconvert_exporter": "python",
   "pygments_lexer": "ipython3",
   "version": "3.10.8"
  }
 },
 "nbformat": 4,
 "nbformat_minor": 5
}
